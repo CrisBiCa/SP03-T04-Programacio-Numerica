{
 "cells": [
  {
   "cell_type": "markdown",
   "id": "00483ec6",
   "metadata": {},
   "source": [
    "## S03 T04: Pràctica amb programació numèrica\n",
    "\n",
    "**Descripció**  \n",
    "Familiaritza't amb la Programació Numèrica a través de la llibreria NumPy.\n",
    "\n",
    "- **Exercici 1**  \n",
    "Crea una funció que donat un Array d’una dimensió, et faci un resum estadístic bàsic de les dades. Si detecta que l’array té més d’una dimensió, ha de mostrar un missatge d’error.\n",
    "\n",
    "- **Exercici 2**  \n",
    "Crea una funció que et generi un quadrat NxN de nombres aleatoris entre el 0 i el 100.\n",
    "\n",
    "- **Exercici 3**  \n",
    "Crea una funció que donada una taula de dues dimensions, et calculi els totals per fila i els totals per columna.\n",
    "\n",
    "- **Exercici 4**  \n",
    "Implementa manualment una funció que calculi el coeficient de correlació. Informa’t-en sobre els seus usos i interpretació.\n",
    "\n",
    "---------------------------------------------------------------------------------------------\n",
    "\n",
    "\n",
    "- **Exercici 1**  \n",
    "Crea una funció que donat un Array d’una dimensió, et faci un resum estadístic bàsic de les dades. Si detecta que l’array té més d’una dimensió, ha de mostrar un missatge d’error."
   ]
  },
  {
   "cell_type": "code",
   "execution_count": 50,
   "id": "ea40bcdb",
   "metadata": {},
   "outputs": [],
   "source": [
    "import numpy as np\n",
    "\n",
    "#Function to make a statistical summary\n",
    "#Takes as argument an array and returns a dictionarywith the data\n",
    "def statisticsSummary(array):\n",
    "    if array.ndim == 1:\n",
    "        \n",
    "        maxNum = np.max(array)\n",
    "        minNum = np.min(array)\n",
    "        arrayMean = np.mean(array)\n",
    "        arrayMedian = np.median(array)\n",
    "        arrayStandDev = np.std(array)\n",
    "        arrayVariance = np.var(array)\n",
    "        \n",
    "        statisticSummary = {\"maxNum\": maxNum,\n",
    "                           \"minNum\" : minNum,\n",
    "                           \"arrayMean\" : arrayMean,\n",
    "                           \"arrayMedian\" :arrayMedian,\n",
    "                           \"arrayStandDev\" : arrayStandDev,\n",
    "                           \"arrayVariance\" : arrayVariance}\n",
    "        \n",
    "        return statisticSummary\n",
    "   \n",
    "    else:\n",
    "        print(\"Error!! the dimension of the array is different than 1!!\")\n",
    "    "
   ]
  },
  {
   "cell_type": "code",
   "execution_count": null,
   "id": "a7d31346",
   "metadata": {},
   "outputs": [],
   "source": [
    "myArray = np.array([1,3,5,3,56,3,5,6,7,8,45,24,36]) #Creating an array\n",
    "\n",
    "#We call and print the statistical summary\n",
    "print(\"A statistical summary of the array:\", statisticsSummary(myArray)) "
   ]
  },
  {
   "cell_type": "markdown",
   "id": "ac396cae",
   "metadata": {},
   "source": [
    "I check that the control of 1 dimension works:"
   ]
  },
  {
   "cell_type": "code",
   "execution_count": 16,
   "id": "5cf16e3b",
   "metadata": {},
   "outputs": [
    {
     "name": "stdout",
     "output_type": "stream",
     "text": [
      "[[3 6 7 3]\n",
      " [7 3 9 8]\n",
      " [3 4 4 8]]\n",
      "Error!! the dimension of the array is different than 1!!\n",
      "A statistical summary of the array: None\n"
     ]
    }
   ],
   "source": [
    "my2ndArray = np.random.randint(10, size=(3, 4))  # Two-dimensional array\n",
    "print(my2ndArray)\n",
    "\n",
    "#We call and print the statistical summary\n",
    "print(\"A statistical summary of the array:\", statisticsSummary(my2ndArray)) "
   ]
  },
  {
   "cell_type": "markdown",
   "id": "f4d4c651",
   "metadata": {},
   "source": [
    "- **Exercici 2**  \n",
    "Crea una funció que et generi un quadrat NxN de nombres aleatoris entre el 0 i el 100."
   ]
  },
  {
   "cell_type": "code",
   "execution_count": 17,
   "id": "b2c97e1d",
   "metadata": {},
   "outputs": [],
   "source": [
    "def squareMatrix(n):\n",
    "    squareMatrix = np.random.randint(0,101, size = (n,n))\n",
    "    return squareMatrix"
   ]
  },
  {
   "cell_type": "code",
   "execution_count": 19,
   "id": "abb85548",
   "metadata": {},
   "outputs": [
    {
     "name": "stdout",
     "output_type": "stream",
     "text": [
      "[[94 38 13 50 58 66 33]\n",
      " [12 53  9 35 55 61 25]\n",
      " [67 56 12 33 81 24 49]\n",
      " [44 88 28 88 68 46 10]\n",
      " [47 49 52  8 79 73 85]\n",
      " [72 10 97 32 56 42  2]\n",
      " [61 44 94 31  7 98 79]]\n",
      "(7, 7)\n"
     ]
    }
   ],
   "source": [
    "mySquareMatrix = squareMatrix(7) #Calling the function to generate a matrix 7 x 7\n",
    "\n",
    "print(mySquareMatrix)\n",
    "print(mySquareMatrix.shape) #Check the shape to see if the function works correctly"
   ]
  },
  {
   "cell_type": "markdown",
   "id": "b951c02a",
   "metadata": {},
   "source": [
    "- **Exercici 3**  \n",
    "Crea una funció que donada una taula de dues dimensions, et calculi els totals per fila i els totals per columna."
   ]
  },
  {
   "cell_type": "code",
   "execution_count": 31,
   "id": "f5edb5ce",
   "metadata": {},
   "outputs": [],
   "source": [
    "#Function calculating the row and column totals, for any matrix given\n",
    "def sumRowColumns(matrix):\n",
    "    #I creat 2 lists to save the totals per row, and columns\n",
    "    matrixColumns = []\n",
    "    matrixRows = []\n",
    "    for i in range((matrix.ndim)): #loop to sum each row of the matrix\n",
    "        sumRow = np.sum(matrix[i,:])\n",
    "        matrixRows.append(sumRow)\n",
    "    for j in range((matrix.ndim)): #loop to sum each column of the matrix\n",
    "        sumColumns = np.sum(matrix[:,j])\n",
    "        matrixColumns.append(sumColumns)\n",
    "    print(\"Row totals: \", matrixRows)\n",
    "    print(\"Column Totals: \", matrixColumns)\n",
    "    return matrixRows, matrixColumns #I think this function needs to return the values"
   ]
  },
  {
   "cell_type": "code",
   "execution_count": 32,
   "id": "d462179d",
   "metadata": {},
   "outputs": [
    {
     "name": "stdout",
     "output_type": "stream",
     "text": [
      "[[0 6]\n",
      " [6 2]]\n",
      "Row totals:  [6, 8]\n",
      "Column Totals:  [6, 8]\n"
     ]
    },
    {
     "data": {
      "text/plain": [
       "([6, 8], [6, 8])"
      ]
     },
     "execution_count": 32,
     "metadata": {},
     "output_type": "execute_result"
    }
   ],
   "source": [
    "myMatrix2x2 = np.random.randint(0, 11,(2,2))\n",
    "print(myMatrix2x2)\n",
    "sumRowColumns(myMatrix2x2)"
   ]
  },
  {
   "attachments": {},
   "cell_type": "markdown",
   "id": "daed2f5a",
   "metadata": {},
   "source": [
    "- **Exercici 4**  \n",
    "Implementa manualment una funció que calculi el coeficient de correlació. Informa’t-en sobre els seus usos i interpretació.\n",
    "\n",
    "_**numpy.corrcoef**_\n",
    "\n",
    "Return Pearson product-moment correlation coefficients. The relationship between the correlation coefficient matrix, R, and the covariance matrix, C, is\n",
    "![alt text](CorrCoef.png \"Correlation Coefficient\")\n",
    "\n",
    "The values of R are between -1 and 1, inclusive.\n",
    "\n",
    "_**numpy.cov**_\n",
    "\n",
    "Estimate a covariance matrix, given data and weights.\n",
    "\n",
    "![alt text](covarianzaNumpy.png \"Covariance matrix\")\n",
    "\n",
    "See the notes for an outline of the algorithm."
   ]
  },
  {
   "cell_type": "code",
   "execution_count": 44,
   "id": "53e71bda",
   "metadata": {},
   "outputs": [],
   "source": [
    "import math \n",
    "def correlationCoef(matrix):\n",
    "    CovMatrix = np.cov(matrix)\n",
    "    cc = np.empty(matrix.shape) #creats an empty ndarray with the sameshape as the entry matrix\n",
    "    for i in range(matrix.shape[0]): \n",
    "        for j in range(matrix.shape[0]):\n",
    "            #Calculates each element of the cc matrix\n",
    "            cc[i,j] = (CovMatrix[i,j])/math.sqrt((CovMatrix[i,i])*CovMatrix[j,j])\n",
    "    return cc\n",
    "    "
   ]
  },
  {
   "cell_type": "code",
   "execution_count": 39,
   "id": "c8c85438",
   "metadata": {},
   "outputs": [
    {
     "name": "stdout",
     "output_type": "stream",
     "text": [
      "[[ 8  2  2  4  8  7  2  2  9 10]\n",
      " [ 7  6  8  6  3  4  9  2  4  7]\n",
      " [ 8  1  9  2  3  9  1  2  3  6]\n",
      " [ 7 10  5  8  6  7  6  3 10  8]\n",
      " [ 5 10 10  6  9  3  7 10  9  5]\n",
      " [ 7  6  8  1  5  6  6  8  8 10]\n",
      " [ 1  3  2 10  6  5  7 10 10  3]\n",
      " [ 9  2  2  9 10  7 10  1 10  9]\n",
      " [ 4  3  5  7  5  1  8  7  9  5]\n",
      " [ 3  6  9  4  5  1  8  9  9  6]]\n",
      "2\n",
      "(10, 10)\n"
     ]
    }
   ],
   "source": [
    "mmms = np.random.randint(1,11,(10,10))\n",
    "print(mmms)\n",
    "print(mmms.ndim)\n",
    "print(mmms.shape)"
   ]
  },
  {
   "cell_type": "code",
   "execution_count": 48,
   "id": "63a8facf",
   "metadata": {},
   "outputs": [
    {
     "name": "stdout",
     "output_type": "stream",
     "text": [
      "[[ 1.         -0.21311104  0.35320137  0.38888198 -0.49600251  0.26434823\n",
      "  -0.12410794  0.67111071 -0.10584014 -0.38557015]\n",
      " [-0.21311104  1.          0.17344448  0.15856758 -0.19978732  0.04052204\n",
      "  -0.51113631  0.15237642  0.03244855  0.07018624]\n",
      " [ 0.35320137  0.17344448  1.         -0.15715812 -0.47446596  0.35141625\n",
      "  -0.6249846  -0.04192162 -0.57124429 -0.38954931]\n",
      " [ 0.38888198  0.15856758 -0.15715812  1.         -0.16153213 -0.12777531\n",
      "  -0.07420489  0.35897771 -0.06394859 -0.22131333]\n",
      " [-0.49600251 -0.19978732 -0.47446596 -0.16153213  1.          0.12641889\n",
      "   0.20388991 -0.53392124  0.40492627  0.78201406]\n",
      " [ 0.26434823  0.04052204  0.35141625 -0.12777531  0.12641889  1.\n",
      "  -0.36503978 -0.22846036 -0.01906579  0.42888877]\n",
      " [-0.12410794 -0.51113631 -0.6249846  -0.07420489  0.20388991 -0.36503978\n",
      "   1.          0.15232781  0.6802859   0.29889007]\n",
      " [ 0.67111071  0.15237642 -0.04192162  0.35897771 -0.53392124 -0.22846036\n",
      "   0.15232781  1.          0.26452511 -0.33153658]\n",
      " [-0.10584014  0.03244855 -0.57124429 -0.06394859  0.40492627 -0.01906579\n",
      "   0.6802859   0.26452511  1.          0.70999255]\n",
      " [-0.38557015  0.07018624 -0.38954931 -0.22131333  0.78201406  0.42888877\n",
      "   0.29889007 -0.33153658  0.70999255  1.        ]]\n",
      "2\n",
      "(10, 10)\n"
     ]
    }
   ],
   "source": [
    "print(correlationCoef(mmms))\n",
    "print(correlationCoef(mmms).ndim)\n",
    "print(correlationCoef(mmms).shape)"
   ]
  },
  {
   "cell_type": "code",
   "execution_count": 49,
   "id": "0f937ddb",
   "metadata": {},
   "outputs": [
    {
     "name": "stdout",
     "output_type": "stream",
     "text": [
      "[[ 1.         -0.21311104  0.35320137  0.38888198 -0.49600251  0.26434823\n",
      "  -0.12410794  0.67111071 -0.10584014 -0.38557015]\n",
      " [-0.21311104  1.          0.17344448  0.15856758 -0.19978732  0.04052204\n",
      "  -0.51113631  0.15237642  0.03244855  0.07018624]\n",
      " [ 0.35320137  0.17344448  1.         -0.15715812 -0.47446596  0.35141625\n",
      "  -0.6249846  -0.04192162 -0.57124429 -0.38954931]\n",
      " [ 0.38888198  0.15856758 -0.15715812  1.         -0.16153213 -0.12777531\n",
      "  -0.07420489  0.35897771 -0.06394859 -0.22131333]\n",
      " [-0.49600251 -0.19978732 -0.47446596 -0.16153213  1.          0.12641889\n",
      "   0.20388991 -0.53392124  0.40492627  0.78201406]\n",
      " [ 0.26434823  0.04052204  0.35141625 -0.12777531  0.12641889  1.\n",
      "  -0.36503978 -0.22846036 -0.01906579  0.42888877]\n",
      " [-0.12410794 -0.51113631 -0.6249846  -0.07420489  0.20388991 -0.36503978\n",
      "   1.          0.15232781  0.6802859   0.29889007]\n",
      " [ 0.67111071  0.15237642 -0.04192162  0.35897771 -0.53392124 -0.22846036\n",
      "   0.15232781  1.          0.26452511 -0.33153658]\n",
      " [-0.10584014  0.03244855 -0.57124429 -0.06394859  0.40492627 -0.01906579\n",
      "   0.6802859   0.26452511  1.          0.70999255]\n",
      " [-0.38557015  0.07018624 -0.38954931 -0.22131333  0.78201406  0.42888877\n",
      "   0.29889007 -0.33153658  0.70999255  1.        ]]\n",
      "2\n",
      "(10, 10)\n"
     ]
    }
   ],
   "source": [
    "print(np.corrcoef(mmms))\n",
    "print(np.corrcoef(mmms).ndim)\n",
    "print(np.corrcoef(mmms).shape)"
   ]
  },
  {
   "cell_type": "markdown",
   "id": "150bec75",
   "metadata": {},
   "source": [
    "We can see they are the same matrix!! iujuu 🤙"
   ]
  },
  {
   "cell_type": "markdown",
   "id": "f219b9a8",
   "metadata": {},
   "source": [
    "### Correlation   \n",
    "\n",
    "https://realpython.com/numpy-scipy-pandas-correlation-python/  \n",
    "\n",
    "Correlation coefficients quantify the association between variables or features of a dataset. These statistics are of high importance for science and technology, and Python has great tools that you can use to calculate them. SciPy, NumPy, and Pandas correlation methods are fast, comprehensive, and well-documented.\n",
    "\n",
    "Statistics and data science are often concerned about the relationships between two or more variables (or features) of a dataset. \n",
    "\n",
    "\n",
    "**Note**: When you’re analyzing correlation, you should always have in mind that **correlation does not indicate causation**. It quantifies the strength of the relationship between the features of a dataset. Sometimes, the association is caused by a factor common to several features of interest.\n",
    "\n",
    "There are several statistics that you can use to quantify correlation.   \n",
    "- Pearson’s r  \n",
    "- Spearman’s rho  \n",
    "- Kendall’s tau  \n",
    "\n",
    "**Pearson’s coefficient measures linear correlation, while the Spearman and Kendall coefficients compare the ranks of data. There are several NumPy, SciPy, and Pandas correlation functions and methods that you can use to calculate these coefficients. You can also use Matplotlib to conveniently illustrate the results.**\n",
    "\n",
    "corrcoef() returns the correlation matrix  \n",
    "The values on the main diagonal of the correlation matrix (upper left and lower right) are equal to 1. The upper left value corresponds to the correlation coefficient for x and x, while the lower right value is the correlation coefficient for y and y. They are always equal to 1.  \n",
    "\n",
    "However, what you usually need are the non-diagonal values of the correlation matrix. These values are equal and both represent the Pearson correlation coefficient for x and y.\n",
    "\n",
    "#### Linear Correlation\n",
    "Linear correlation measures the proximity of the mathematical relationship between variables or dataset features to a linear function. If the relationship between the two features is closer to some linear function, then their linear correlation is stronger and the absolute value of the correlation coefficient is higher.\n",
    "\n",
    "##### Pearson Correlation Coefficient  \n",
    "Consider a dataset with two features: x and y. Each feature has n values, so x and y are n-tuples. Say that the first value x₁ from x corresponds to the first value y₁ from y, the second value x₂ from x to the second value y₂ from y, and so on. Then, there are n pairs of corresponding values: (x₁, y₁), (x₂, y₂), and so on. Each of these x-y pairs represents a single observation.\n",
    "\n",
    "The **Pearson (product-moment) correlation coefficient** is a measure of the linear relationship between two features. It’s the ratio of the covariance of x and y to the product of their standard deviations. It’s often denoted with the letter r and called Pearson’s r. You can express this value mathematically with this equation:\n",
    "\n",
    "r = Σᵢ((xᵢ − mean(x))(yᵢ − mean(y))) (√Σᵢ(xᵢ − mean(x))² √Σᵢ(yᵢ − mean(y))²)⁻¹\n",
    "\n",
    "Here are some important facts about the Pearson correlation coefficient:\n",
    "\n",
    "- The Pearson correlation coefficient can take on any real value in the range −1 ≤ r ≤ 1.\n",
    "\n",
    "- The maximum value r = 1 corresponds to the case in which there’s a perfect positive linear relationship between x and y. In other words, larger x values correspond to larger y values and vice versa.\n",
    "\n",
    "- The value r > 0 indicates positive correlation between x and y.\n",
    "\n",
    "- The value r = 0 corresponds to the case in which there’s no linear relationship between x and y.\n",
    "\n",
    "- The value r < 0 indicates negative correlation between x and y.\n",
    "\n",
    "- The minimal value r = −1 corresponds to the case when there’s a perfect negative linear relationship between x and y. In other words, larger x values correspond to smaller y values and vice versa.\n",
    "\n",
    "![alt text](PearsonRvalue_LinearCorrelation.png \"Correlation Coefficient\")\n",
    "\n"
   ]
  },
  {
   "cell_type": "code",
   "execution_count": null,
   "id": "65a5f899",
   "metadata": {},
   "outputs": [],
   "source": []
  }
 ],
 "metadata": {
  "kernelspec": {
   "display_name": "Python 3",
   "language": "python",
   "name": "python3"
  },
  "language_info": {
   "codemirror_mode": {
    "name": "ipython",
    "version": 3
   },
   "file_extension": ".py",
   "mimetype": "text/x-python",
   "name": "python",
   "nbconvert_exporter": "python",
   "pygments_lexer": "ipython3",
   "version": "3.8.8"
  }
 },
 "nbformat": 4,
 "nbformat_minor": 5
}
